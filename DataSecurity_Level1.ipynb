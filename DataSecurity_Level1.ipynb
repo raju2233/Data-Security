{
  "nbformat": 4,
  "nbformat_minor": 0,
  "metadata": {
    "colab": {
      "provenance": [],
      "gpuType": "T4"
    },
    "kernelspec": {
      "name": "python3",
      "display_name": "Python 3"
    },
    "language_info": {
      "name": "python"
    },
    "accelerator": "GPU"
  },
  "cells": [
    {
      "cell_type": "code",
      "execution_count": 1,
      "metadata": {
        "id": "kOBRJpUnZIAS"
      },
      "outputs": [],
      "source": [
        "import torch\n",
        "import torchvision\n",
        "import torchvision.transforms as transforms\n",
        "import numpy as np\n",
        "from torch.utils.data import random_split\n",
        "from torch.utils.data import DataLoader\n",
        "import torch.nn.functional as F\n",
        "import torch.nn as nn\n",
        "import matplotlib.pyplot as plt  # Import for plotting"
      ]
    },
    {
      "cell_type": "code",
      "source": [
        "# Data loader function\n",
        "def dataloader(train_dataset, test_dataset):\n",
        "\n",
        "    # Set the length of the batch (number of samples per batch)\n",
        "    batch_size = 50\n",
        "\n",
        "    train_loader = DataLoader(\n",
        "        dataset=train_dataset,\n",
        "        batch_size=batch_size,\n",
        "        shuffle=True\n",
        "    )\n",
        "\n",
        "    test_loader = DataLoader(\n",
        "        dataset=test_dataset,\n",
        "        batch_size=len(test_dataset),\n",
        "        shuffle=True\n",
        "    )\n",
        "    print(f'Training has {len(train_loader)} batches of data!')\n",
        "    print(f'Testing has {len(test_loader)} batches of data!')\n",
        "    return train_loader, test_loader"
      ],
      "metadata": {
        "id": "FiA8LUCdZW2M"
      },
      "execution_count": 2,
      "outputs": []
    },
    {
      "cell_type": "code",
      "source": [
        "# Data loading function\n",
        "def load_data(dataset_name='MNIST'):\n",
        "    if dataset_name == 'MNIST':\n",
        "        transform = transforms.Compose([\n",
        "            transforms.ToTensor(),\n",
        "            transforms.Normalize((0.5,), (0.5,))  # Single channel normalization for MNIST\n",
        "        ])\n",
        "\n",
        "        # Load MNIST dataset\n",
        "        train_dataset = torchvision.datasets.MNIST(\n",
        "            root=\"./data/mnist\",\n",
        "            train=True,\n",
        "            download=True,\n",
        "            transform=transform\n",
        "        )\n",
        "\n",
        "        test_dataset = torchvision.datasets.MNIST(\n",
        "            root=\"./data/mnist\",\n",
        "            train=False,\n",
        "            download=True,\n",
        "            transform=transform\n",
        "        )\n",
        "\n",
        "    elif dataset_name == 'CIFAR10':\n",
        "        transform = transforms.Compose([\n",
        "            transforms.ToTensor(),\n",
        "            transforms.Normalize((0.5, 0.5, 0.5), (0.5, 0.5, 0.5))  # 3 channel normalization for CIFAR-10\n",
        "        ])\n",
        "\n",
        "        # Load CIFAR-10 dataset\n",
        "        train_dataset = torchvision.datasets.CIFAR10(\n",
        "            root=\"./data/cifar10\",\n",
        "            train=True,\n",
        "            download=True,\n",
        "            transform=transform\n",
        "        )\n",
        "\n",
        "        test_dataset = torchvision.datasets.CIFAR10(\n",
        "            root=\"./data/cifar10\",\n",
        "            train=False,\n",
        "            download=True,\n",
        "            transform=transform\n",
        "        )\n",
        "    else:\n",
        "        raise ValueError(\"Unsupported dataset. Choose either 'MNIST' or 'CIFAR10'.\")\n",
        "\n",
        "    train_loader = DataLoader(\n",
        "        dataset=train_dataset,\n",
        "        batch_size=50,\n",
        "        shuffle=True\n",
        "    )\n",
        "\n",
        "    test_loader = DataLoader(\n",
        "        dataset=test_dataset,\n",
        "        batch_size=50,\n",
        "        shuffle=False\n",
        "    )\n",
        "\n",
        "    print(f\"The number of training data: {len(train_dataset)}\")\n",
        "    print(f\"The number of testing data: {len(test_dataset)}\")\n",
        "    print(f\"Training has {len(train_loader)} batches of data!\")\n",
        "    print(f\"Testing has {len(test_loader)} batches of data!\")\n",
        "    return train_loader, test_loader, train_dataset, test_dataset"
      ],
      "metadata": {
        "id": "Vj_vGiKKZYhF"
      },
      "execution_count": 3,
      "outputs": []
    },
    {
      "cell_type": "code",
      "source": [
        "# Define the ConvNet class\n",
        "class ConvNet(nn.Module):\n",
        "    def __init__(self, input_channels=1):\n",
        "        super(ConvNet, self).__init__()\n",
        "\n",
        "        # First Convolutional Layer\n",
        "        self.conv1 = nn.Conv2d(input_channels, 64, 3, padding=1)\n",
        "        self.bn1 = nn.BatchNorm2d(64)\n",
        "\n",
        "        # Second Convolutional Layer\n",
        "        self.conv2 = nn.Conv2d(64, 128, 3, padding=1)\n",
        "        self.bn2 = nn.BatchNorm2d(128)\n",
        "\n",
        "        # Third Convolutional Layer\n",
        "        self.conv3 = nn.Conv2d(128, 256, 3, padding=1)\n",
        "        self.bn3 = nn.BatchNorm2d(256)\n",
        "\n",
        "        # Fourth Convolutional Layer\n",
        "        self.conv4 = nn.Conv2d(256, 512, 3, padding=1)\n",
        "        self.bn4 = nn.BatchNorm2d(512)\n",
        "\n",
        "        # Maxpool layer\n",
        "        self.pool = nn.MaxPool2d(2, 2)\n",
        "\n",
        "        # Fully Connected Layers\n",
        "        self.fc1 = nn.Linear(512 * 1 * 1, 2048)\n",
        "        self.fc2 = nn.Linear(2048, 1024)\n",
        "        self.fc3 = nn.Linear(1024, 10)\n",
        "\n",
        "        # Dropout layer\n",
        "        self.dropout = nn.Dropout(p=0.5)\n",
        "\n",
        "    def forward(self, x):\n",
        "        # Apply the convolutional layers with LeakyReLU activations\n",
        "        x = self.pool(nn.functional.leaky_relu(self.bn1(self.conv1(x)), negative_slope=0.1))\n",
        "        x = self.pool(nn.functional.leaky_relu(self.bn2(self.conv2(x)), negative_slope=0.1))\n",
        "        x = self.pool(nn.functional.leaky_relu(self.bn3(self.conv3(x)), negative_slope=0.1))\n",
        "        x = self.pool(nn.functional.leaky_relu(self.bn4(self.conv4(x)), negative_slope=0.1))\n",
        "\n",
        "        # Flatten the tensor before passing it to the fully connected layers\n",
        "        x = x.view(-1, 512 * 1 * 1)\n",
        "\n",
        "        # Fully connected layers with Dropout\n",
        "        x = nn.functional.relu(self.fc1(x))\n",
        "        x = self.dropout(x)\n",
        "        x = nn.functional.relu(self.fc2(x))\n",
        "        x = self.dropout(x)\n",
        "        x = self.fc3(x)\n",
        "\n",
        "        return x"
      ],
      "metadata": {
        "id": "qzJsc_9eZa-d"
      },
      "execution_count": 4,
      "outputs": []
    },
    {
      "cell_type": "code",
      "source": [
        "# Training function\n",
        "def train(model, train_loader, optimizer, lossFun, device):\n",
        "    model.train()\n",
        "    running_loss = 0.0\n",
        "    running_acc = 0.0\n",
        "    for features, labels in train_loader:\n",
        "        features, labels = features.to(device), labels.to(device)\n",
        "        optimizer.zero_grad()\n",
        "        preds = model(features)\n",
        "        loss = lossFun(preds, labels)\n",
        "        loss.backward()\n",
        "        optimizer.step()\n",
        "\n",
        "        running_loss += loss.item()\n",
        "        _, predicted = torch.max(preds, 1)\n",
        "        running_acc += (predicted == labels).sum().item() / labels.size(0)\n",
        "\n",
        "    avg_loss = running_loss / len(train_loader)\n",
        "    avg_acc = running_acc / len(train_loader)\n",
        "    return avg_loss, avg_acc"
      ],
      "metadata": {
        "id": "cVN4eHhNZcY-"
      },
      "execution_count": 5,
      "outputs": []
    },
    {
      "cell_type": "code",
      "source": [
        "# Validation function\n",
        "def validate(model, test_loader, device):\n",
        "    model.eval()\n",
        "    val_accuracy = 0.0\n",
        "    num_correct = 0\n",
        "    num_samples = 0\n",
        "\n",
        "    with torch.no_grad():\n",
        "        for val_features, val_labels in test_loader:\n",
        "            val_features, val_labels = val_features.to(device), val_labels.to(device)\n",
        "            val_preds = model(val_features)\n",
        "            _, val_predicted = torch.max(val_preds, axis=1)\n",
        "            num_correct += (val_predicted == val_labels).sum().item()\n",
        "            num_samples += len(val_labels)\n",
        "\n",
        "    val_accuracy = num_correct / num_samples\n",
        "    return val_accuracy"
      ],
      "metadata": {
        "id": "X5LXI34QZeZB"
      },
      "execution_count": 6,
      "outputs": []
    },
    {
      "cell_type": "code",
      "source": [
        "# Plotting function\n",
        "def plot_accuracies(train_accuracies, val_accuracies):\n",
        "    epochs = range(1, len(train_accuracies) + 1)\n",
        "\n",
        "    plt.figure(figsize=(10, 6))\n",
        "    plt.plot(epochs, train_accuracies, label='Training Accuracy', color='blue', marker='o')\n",
        "    plt.plot(epochs, val_accuracies, label='Validation Accuracy', color='green', marker='o')\n",
        "\n",
        "    plt.xlabel('Epochs')\n",
        "    plt.ylabel('Accuracy')\n",
        "    plt.title('Training and Validation Accuracy over Epochs')\n",
        "    plt.legend()\n",
        "    plt.grid(True)\n",
        "    plt.show()"
      ],
      "metadata": {
        "id": "tVlID3rmZgDH"
      },
      "execution_count": 7,
      "outputs": []
    },
    {
      "cell_type": "code",
      "source": [
        "# Main function\n",
        "def main(dataset_name='MNIST'):\n",
        "    device = torch.device('cuda' if torch.cuda.is_available() else 'cpu')\n",
        "    learning_rate = 0.0005\n",
        "    epoches = 10\n",
        "    best_model_path = 'best_model.pth'\n",
        "\n",
        "    # Load data\n",
        "    train_loader, test_loader, train_dataset, test_dataset = load_data(dataset_name)\n",
        "\n",
        "    # Set input channels based on dataset\n",
        "    input_channels = 1 if dataset_name == 'MNIST' else 3\n",
        "    model = ConvNet(input_channels=input_channels).to(device)\n",
        "    lossFun = nn.CrossEntropyLoss()\n",
        "    optimizer = torch.optim.Adam(model.parameters(), lr=learning_rate)\n",
        "\n",
        "    best_accuracy = 0.0\n",
        "\n",
        "    # Track accuracy values for plotting\n",
        "    train_accuracies = []\n",
        "    val_accuracies = []\n",
        "\n",
        "    for epoch in range(epoches):\n",
        "        # Training\n",
        "        train_loss, train_acc = train(model, train_loader, optimizer, lossFun, device)\n",
        "        train_accuracies.append(train_acc)  # Store training accuracy\n",
        "        print(f\"Epoch [{epoch+1}/{epoches}] - Loss: {train_loss:.4f}, Accuracy: {train_acc:.4%}\")\n",
        "\n",
        "        # Validation\n",
        "        val_accuracy = validate(model, test_loader, device)\n",
        "        val_accuracies.append(val_accuracy)  # Store validation accuracy\n",
        "        print(f\"Validation Accuracy: {val_accuracy:.4%}\")\n",
        "\n",
        "        # Save the best model\n",
        "        if val_accuracy > best_accuracy:\n",
        "            best_accuracy = val_accuracy\n",
        "            torch.save(model.state_dict(), best_model_path)\n",
        "            print(f\"Best model saved with accuracy: {best_accuracy:.4%}\")\n",
        "\n",
        "    # Test the model\n",
        "    model.load_state_dict(torch.load(best_model_path))\n",
        "    test_accuracy = validate(model, test_loader, device)\n",
        "    print(f\"Test Accuracy: {test_accuracy:.4%}\")\n",
        "\n",
        "    # Plot the accuracies\n",
        "    plot_accuracies(train_accuracies, val_accuracies)\n",
        "\n",
        "# Run the main function\n",
        "if __name__ == '__main__':\n",
        "    main('MNIST')  # or main('CIFAR10')"
      ],
      "metadata": {
        "colab": {
          "base_uri": "https://localhost:8080/",
          "height": 1000
        },
        "id": "6L9_2vnMZhuE",
        "outputId": "907490f0-d7c0-48dc-c4fe-bb8d21aae803"
      },
      "execution_count": 8,
      "outputs": [
        {
          "output_type": "stream",
          "name": "stdout",
          "text": [
            "Downloading http://yann.lecun.com/exdb/mnist/train-images-idx3-ubyte.gz\n",
            "Failed to download (trying next):\n",
            "HTTP Error 403: Forbidden\n",
            "\n",
            "Downloading https://ossci-datasets.s3.amazonaws.com/mnist/train-images-idx3-ubyte.gz\n",
            "Downloading https://ossci-datasets.s3.amazonaws.com/mnist/train-images-idx3-ubyte.gz to ./data/mnist/MNIST/raw/train-images-idx3-ubyte.gz\n"
          ]
        },
        {
          "output_type": "stream",
          "name": "stderr",
          "text": [
            "100%|██████████| 9.91M/9.91M [00:00<00:00, 53.7MB/s]\n"
          ]
        },
        {
          "output_type": "stream",
          "name": "stdout",
          "text": [
            "Extracting ./data/mnist/MNIST/raw/train-images-idx3-ubyte.gz to ./data/mnist/MNIST/raw\n",
            "\n",
            "Downloading http://yann.lecun.com/exdb/mnist/train-labels-idx1-ubyte.gz\n",
            "Failed to download (trying next):\n",
            "HTTP Error 403: Forbidden\n",
            "\n",
            "Downloading https://ossci-datasets.s3.amazonaws.com/mnist/train-labels-idx1-ubyte.gz\n",
            "Downloading https://ossci-datasets.s3.amazonaws.com/mnist/train-labels-idx1-ubyte.gz to ./data/mnist/MNIST/raw/train-labels-idx1-ubyte.gz\n"
          ]
        },
        {
          "output_type": "stream",
          "name": "stderr",
          "text": [
            "100%|██████████| 28.9k/28.9k [00:00<00:00, 1.67MB/s]"
          ]
        },
        {
          "output_type": "stream",
          "name": "stdout",
          "text": [
            "Extracting ./data/mnist/MNIST/raw/train-labels-idx1-ubyte.gz to ./data/mnist/MNIST/raw\n",
            "\n",
            "Downloading http://yann.lecun.com/exdb/mnist/t10k-images-idx3-ubyte.gz\n"
          ]
        },
        {
          "output_type": "stream",
          "name": "stderr",
          "text": [
            "\n"
          ]
        },
        {
          "output_type": "stream",
          "name": "stdout",
          "text": [
            "Failed to download (trying next):\n",
            "HTTP Error 403: Forbidden\n",
            "\n",
            "Downloading https://ossci-datasets.s3.amazonaws.com/mnist/t10k-images-idx3-ubyte.gz\n",
            "Downloading https://ossci-datasets.s3.amazonaws.com/mnist/t10k-images-idx3-ubyte.gz to ./data/mnist/MNIST/raw/t10k-images-idx3-ubyte.gz\n"
          ]
        },
        {
          "output_type": "stream",
          "name": "stderr",
          "text": [
            "100%|██████████| 1.65M/1.65M [00:00<00:00, 7.82MB/s]\n"
          ]
        },
        {
          "output_type": "stream",
          "name": "stdout",
          "text": [
            "Extracting ./data/mnist/MNIST/raw/t10k-images-idx3-ubyte.gz to ./data/mnist/MNIST/raw\n",
            "\n",
            "Downloading http://yann.lecun.com/exdb/mnist/t10k-labels-idx1-ubyte.gz\n",
            "Failed to download (trying next):\n",
            "HTTP Error 403: Forbidden\n",
            "\n",
            "Downloading https://ossci-datasets.s3.amazonaws.com/mnist/t10k-labels-idx1-ubyte.gz\n",
            "Downloading https://ossci-datasets.s3.amazonaws.com/mnist/t10k-labels-idx1-ubyte.gz to ./data/mnist/MNIST/raw/t10k-labels-idx1-ubyte.gz\n"
          ]
        },
        {
          "output_type": "stream",
          "name": "stderr",
          "text": [
            "100%|██████████| 4.54k/4.54k [00:00<00:00, 5.04MB/s]"
          ]
        },
        {
          "output_type": "stream",
          "name": "stdout",
          "text": [
            "Extracting ./data/mnist/MNIST/raw/t10k-labels-idx1-ubyte.gz to ./data/mnist/MNIST/raw\n",
            "\n"
          ]
        },
        {
          "output_type": "stream",
          "name": "stderr",
          "text": [
            "\n"
          ]
        },
        {
          "output_type": "stream",
          "name": "stdout",
          "text": [
            "The number of training data: 60000\n",
            "The number of testing data: 10000\n",
            "Training has 1200 batches of data!\n",
            "Testing has 200 batches of data!\n",
            "Epoch [1/10] - Loss: 0.1241, Accuracy: 96.2033%\n",
            "Validation Accuracy: 98.3500%\n",
            "Best model saved with accuracy: 98.3500%\n",
            "Epoch [2/10] - Loss: 0.0503, Accuracy: 98.6267%\n",
            "Validation Accuracy: 99.0300%\n",
            "Best model saved with accuracy: 99.0300%\n",
            "Epoch [3/10] - Loss: 0.0359, Accuracy: 98.9717%\n",
            "Validation Accuracy: 99.1300%\n",
            "Best model saved with accuracy: 99.1300%\n",
            "Epoch [4/10] - Loss: 0.0294, Accuracy: 99.1883%\n",
            "Validation Accuracy: 99.1000%\n",
            "Epoch [5/10] - Loss: 0.0256, Accuracy: 99.3050%\n",
            "Validation Accuracy: 99.0400%\n",
            "Epoch [6/10] - Loss: 0.0232, Accuracy: 99.3867%\n",
            "Validation Accuracy: 99.3100%\n",
            "Best model saved with accuracy: 99.3100%\n",
            "Epoch [7/10] - Loss: 0.0187, Accuracy: 99.5200%\n",
            "Validation Accuracy: 99.0200%\n",
            "Epoch [8/10] - Loss: 0.0189, Accuracy: 99.5017%\n",
            "Validation Accuracy: 99.1000%\n",
            "Epoch [9/10] - Loss: 0.0167, Accuracy: 99.5850%\n",
            "Validation Accuracy: 98.9600%\n",
            "Epoch [10/10] - Loss: 0.0155, Accuracy: 99.6267%\n",
            "Validation Accuracy: 99.0300%\n"
          ]
        },
        {
          "output_type": "stream",
          "name": "stderr",
          "text": [
            "<ipython-input-8-e1b931cfc713>:41: FutureWarning: You are using `torch.load` with `weights_only=False` (the current default value), which uses the default pickle module implicitly. It is possible to construct malicious pickle data which will execute arbitrary code during unpickling (See https://github.com/pytorch/pytorch/blob/main/SECURITY.md#untrusted-models for more details). In a future release, the default value for `weights_only` will be flipped to `True`. This limits the functions that could be executed during unpickling. Arbitrary objects will no longer be allowed to be loaded via this mode unless they are explicitly allowlisted by the user via `torch.serialization.add_safe_globals`. We recommend you start setting `weights_only=True` for any use case where you don't have full control of the loaded file. Please open an issue on GitHub for any issues related to this experimental feature.\n",
            "  model.load_state_dict(torch.load(best_model_path))\n"
          ]
        },
        {
          "output_type": "stream",
          "name": "stdout",
          "text": [
            "Test Accuracy: 99.3100%\n"
          ]
        },
        {
          "output_type": "display_data",
          "data": {
            "text/plain": [
              "<Figure size 1000x600 with 1 Axes>"
            ],
            "image/png": "[encoded data removed]"
          },
          "metadata": {}
        }
      ]
    }
  ]
}