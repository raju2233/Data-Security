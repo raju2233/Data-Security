{
  "nbformat": 4,
  "nbformat_minor": 0,
  "metadata": {
    "colab": {
      "provenance": [],
      "gpuType": "T4"
    },
    "kernelspec": {
      "name": "python3",
      "display_name": "Python 3"
    },
    "language_info": {
      "name": "python"
    },
    "accelerator": "GPU"
  },
  "cells": [
    {
      "cell_type": "code",
      "execution_count": 1,
      "metadata": {
        "id": "nyc5quKmvXOs"
      },
      "outputs": [],
      "source": [
        "import torch\n",
        "import torch.nn as nn\n",
        "import torch.optim as optim\n",
        "import torchvision\n",
        "import torchvision.transforms as transforms\n",
        "from torch.utils.data import DataLoader, random_split\n",
        "import copy\n",
        "import matplotlib.pyplot as plt  # Import for plotting"
      ]
    },
    {
      "cell_type": "code",
      "source": [
        "# Define the CNN architecture (modified with batch normalization)\n",
        "class SimpleCNN(nn.Module):\n",
        "    def __init__(self, input_channels=1, num_classes=10):\n",
        "        super(SimpleCNN, self).__init__()\n",
        "\n",
        "        # Define the layers of the network with batch normalization\n",
        "        self.layer1 = nn.Conv2d(input_channels, 16, kernel_size=3, padding=1)\n",
        "        self.bn1 = nn.BatchNorm2d(16)  # Batch normalization\n",
        "        self.layer2 = nn.Conv2d(16, 32, kernel_size=3, padding=1)\n",
        "        self.bn2 = nn.BatchNorm2d(32)\n",
        "        self.layer3 = nn.Conv2d(32, 64, kernel_size=3, padding=1)\n",
        "        self.bn3 = nn.BatchNorm2d(64)\n",
        "\n",
        "        # Adaptive pooling layer to make sure the output feature map size is always 7x7\n",
        "        self.adaptive_pool = nn.AdaptiveAvgPool2d((7, 7))\n",
        "\n",
        "        # Fully connected layers\n",
        "        self.fc1 = nn.Linear(64 * 7 * 7, 128)\n",
        "        self.fc2 = nn.Linear(128, num_classes)\n",
        "        self.relu = nn.ReLU()\n",
        "\n",
        "    def forward(self, x):\n",
        "        # Apply layers in sequence with ReLU and batch normalization\n",
        "        x = self.relu(self.bn1(self.layer1(x)))  # Apply batch norm before ReLU\n",
        "        x = self.relu(self.bn2(self.layer2(x)))\n",
        "        x = self.relu(self.bn3(self.layer3(x)))\n",
        "\n",
        "        # Apply adaptive pooling to make feature map size (7, 7)\n",
        "        x = self.adaptive_pool(x)\n",
        "\n",
        "        # Flatten the tensor\n",
        "        x = torch.flatten(x, 1)  # Flatten all dimensions except batch size\n",
        "\n",
        "        # Apply fully connected layers\n",
        "        x = self.relu(self.fc1(x))\n",
        "        x = self.fc2(x)\n",
        "        return x"
      ],
      "metadata": {
        "id": "ZuaHuGOVvpqG"
      },
      "execution_count": 2,
      "outputs": []
    },
    {
      "cell_type": "code",
      "source": [
        "# Load the dataset (supporting both MNIST and CIFAR-10)\n",
        "def load_data(batch_size=32, dataset_name='MNIST'):\n",
        "    if dataset_name == 'MNIST':\n",
        "        transform = transforms.Compose([\n",
        "            transforms.RandomRotation(10),  # Random rotation\n",
        "            transforms.RandomAffine(0, translate=(0.1, 0.1)),  # Random translation\n",
        "            transforms.ToTensor(),\n",
        "            transforms.Normalize((0.5,), (0.5,))\n",
        "        ])\n",
        "        # Download the MNIST dataset\n",
        "        train_dataset = torchvision.datasets.MNIST(root='./data', train=True, download=True, transform=transform)\n",
        "        test_dataset = torchvision.datasets.MNIST(root='./data', train=False, download=True, transform=transform)\n",
        "        input_channels = 1  # MNIST is grayscale\n",
        "        num_classes = 10\n",
        "    elif dataset_name == 'CIFAR10':\n",
        "        transform = transforms.Compose([\n",
        "            transforms.RandomHorizontalFlip(),\n",
        "            transforms.RandomCrop(32, padding=4),\n",
        "            transforms.ToTensor(),\n",
        "            transforms.Normalize((0.5, 0.5, 0.5), (0.5, 0.5, 0.5))\n",
        "        ])\n",
        "        # Download the CIFAR-10 dataset\n",
        "        train_dataset = torchvision.datasets.CIFAR10(root='./data', train=True, download=True, transform=transform)\n",
        "        test_dataset = torchvision.datasets.CIFAR10(root='./data', train=False, download=True, transform=transform)\n",
        "        input_channels = 3  # CIFAR-10 is RGB\n",
        "        num_classes = 10\n",
        "    else:\n",
        "        raise ValueError(f\"Unsupported dataset: {dataset_name}\")\n",
        "\n",
        "    return train_dataset, test_dataset, input_channels, num_classes\n"
      ],
      "metadata": {
        "id": "Rrd6z8LOvqa3"
      },
      "execution_count": 3,
      "outputs": []
    },
    {
      "cell_type": "code",
      "source": [
        "# Split dataset into partitions for federated learning\n",
        "def partition_dataset(dataset, n_clients=10):\n",
        "    split_size = len(dataset) // n_clients\n",
        "    return random_split(dataset, [split_size] * n_clients)\n"
      ],
      "metadata": {
        "id": "qd1MtVvVv21M"
      },
      "execution_count": 4,
      "outputs": []
    },
    {
      "cell_type": "code",
      "source": [
        "# Local training for each client\n",
        "def client_update(client_model, optimizer, train_loader, device, epochs=1):\n",
        "    client_model.train()\n",
        "    running_loss = 0.0\n",
        "    for epoch in range(epochs):\n",
        "        for data, labels in train_loader:\n",
        "            data, labels = data.to(device), labels.to(device)\n",
        "            optimizer.zero_grad()\n",
        "            output = client_model(data)\n",
        "            loss = nn.CrossEntropyLoss()(output, labels)\n",
        "            loss.backward()\n",
        "            optimizer.step()\n",
        "            running_loss += loss.item()\n",
        "    return running_loss / len(train_loader)"
      ],
      "metadata": {
        "id": "8Xc3ssOyv6Y-"
      },
      "execution_count": 5,
      "outputs": []
    },
    {
      "cell_type": "code",
      "source": [
        "# Aggregating models from clients (FedAvg)\n",
        "def server_aggregate(global_model, client_models, client_datasets):\n",
        "    global_dict = global_model.state_dict()\n",
        "    total_data_size = sum(len(dataset) for dataset in client_datasets)\n",
        "\n",
        "    for k in global_dict.keys():\n",
        "        weighted_avg = torch.zeros_like(global_dict[k], dtype=torch.float32)  # Ensure it's float32\n",
        "        for i in range(len(client_models)):\n",
        "            weight = len(client_datasets[i]) / total_data_size\n",
        "            weighted_avg += weight * client_models[i].state_dict()[k].to(torch.float32)  # Cast to float32 if necessary\n",
        "\n",
        "        global_dict[k] = weighted_avg\n",
        "\n",
        "    global_model.load_state_dict(global_dict)"
      ],
      "metadata": {
        "id": "AevJZR4cv7-7"
      },
      "execution_count": 6,
      "outputs": []
    },
    {
      "cell_type": "code",
      "source": [
        "# Evaluate global model on test dataset\n",
        "def test_model(model, test_loader, device):\n",
        "    model.eval()\n",
        "    correct, total = 0, 0\n",
        "    with torch.no_grad():\n",
        "        for data, labels in test_loader:\n",
        "            data, labels = data.to(device), labels.to(device)\n",
        "            output = model(data)\n",
        "            _, predicted = torch.max(output, 1)\n",
        "            total += labels.size(0)\n",
        "            correct += (predicted == labels).sum().item()\n",
        "    return correct / total"
      ],
      "metadata": {
        "id": "vbRmRGs7v9qt"
      },
      "execution_count": 7,
      "outputs": []
    },
    {
      "cell_type": "code",
      "source": [
        "# Federated Learning process with accuracy tracking\n",
        "def federated_learning(n_clients=10, global_epochs=10, local_epochs=5, batch_size=32, dataset_name='MNIST'):\n",
        "    device = torch.device('cuda' if torch.cuda.is_available() else 'cpu')\n",
        "\n",
        "    # Load the dataset and partition it for clients\n",
        "    train_dataset, test_dataset, input_channels, num_classes = load_data(batch_size, dataset_name)\n",
        "    client_datasets = partition_dataset(train_dataset, n_clients)\n",
        "    client_loaders = [DataLoader(dataset, batch_size=batch_size, shuffle=True) for dataset in client_datasets]\n",
        "    test_loader = DataLoader(test_dataset, batch_size=1000, shuffle=False)\n",
        "\n",
        "    # Initialize global model and create copies for clients\n",
        "    global_model = SimpleCNN(input_channels=input_channels, num_classes=num_classes).to(device)\n",
        "    client_models = [copy.deepcopy(global_model) for _ in range(n_clients)]\n",
        "\n",
        "    # Optimizers for each client\n",
        "    optimizers = [optim.AdamW(model.parameters(), lr=0.001) for model in client_models]\n",
        "    schedulers = [optim.lr_scheduler.StepLR(optimizer, step_size=5, gamma=0.1) for optimizer in optimizers]\n",
        "\n",
        "    # List to store accuracy values for plotting\n",
        "    accuracy_history = []\n",
        "\n",
        "    # Federated Learning process\n",
        "    for global_epoch in range(global_epochs):\n",
        "        print(f\"Global Epoch {global_epoch+1}/{global_epochs}\")\n",
        "\n",
        "        # Clients train locally\n",
        "        for client_idx in range(n_clients):\n",
        "            print(f\"Client {client_idx+1} training...\")\n",
        "            client_update(client_models[client_idx], optimizers[client_idx], client_loaders[client_idx], device, local_epochs)\n",
        "\n",
        "        # Aggregate client models to update global model\n",
        "        server_aggregate(global_model, client_models, client_datasets)\n",
        "\n",
        "        # Reduce learning rate for each client\n",
        "        for scheduler in schedulers:\n",
        "            scheduler.step()\n",
        "\n",
        "        # Evaluate the global model on the test dataset\n",
        "        test_accuracy = test_model(global_model, test_loader, device)\n",
        "        print(f\"Test Accuracy after round {global_epoch+1}: {test_accuracy*100:.2f}\")\n",
        "\n",
        "        # Store accuracy for plotting\n",
        "        accuracy_history.append(test_accuracy)\n",
        "\n",
        "    # Plot accuracy over global epochs\n",
        "    plt.plot(range(1, global_epochs+1), accuracy_history, marker='o')\n",
        "    plt.title('Federated Learning: Test Accuracy over Global Epochs')\n",
        "    plt.xlabel('Global Epoch')\n",
        "    plt.ylabel('Test Accuracy')\n",
        "    plt.grid(True)\n",
        "    plt.show()\n",
        "\n",
        "    # Save the final global model\n",
        "    torch.save(global_model.state_dict(), 'federated_model.pth')\n",
        "    print(\"Federated learning process completed.\")\n",
        "\n",
        "if __name__ == '__main__':\n",
        "    # Run federated learning with 10 clients, global epochs=10, local epochs=5, and batch size 32\n",
        "    federated_learning(n_clients=10, global_epochs=10, local_epochs=5, batch_size=32, dataset_name='MNIST')"
      ],
      "metadata": {
        "colab": {
          "base_uri": "https://localhost:8080/",
          "height": 1000
        },
        "id": "PCf53Cu_v_ci",
        "outputId": "5abe1384-a3d7-4417-8369-8bf05361c69c"
      },
      "execution_count": 8,
      "outputs": [
        {
          "output_type": "stream",
          "name": "stdout",
          "text": [
            "Downloading http://yann.lecun.com/exdb/mnist/train-images-idx3-ubyte.gz\n",
            "Failed to download (trying next):\n",
            "HTTP Error 403: Forbidden\n",
            "\n",
            "Downloading https://ossci-datasets.s3.amazonaws.com/mnist/train-images-idx3-ubyte.gz\n",
            "Downloading https://ossci-datasets.s3.amazonaws.com/mnist/train-images-idx3-ubyte.gz to ./data/MNIST/raw/train-images-idx3-ubyte.gz\n"
          ]
        },
        {
          "output_type": "stream",
          "name": "stderr",
          "text": [
            "100%|██████████| 9.91M/9.91M [00:01<00:00, 5.10MB/s]\n"
          ]
        },
        {
          "output_type": "stream",
          "name": "stdout",
          "text": [
            "Extracting ./data/MNIST/raw/train-images-idx3-ubyte.gz to ./data/MNIST/raw\n",
            "\n",
            "Downloading http://yann.lecun.com/exdb/mnist/train-labels-idx1-ubyte.gz\n",
            "Failed to download (trying next):\n",
            "HTTP Error 403: Forbidden\n",
            "\n",
            "Downloading https://ossci-datasets.s3.amazonaws.com/mnist/train-labels-idx1-ubyte.gz\n",
            "Downloading https://ossci-datasets.s3.amazonaws.com/mnist/train-labels-idx1-ubyte.gz to ./data/MNIST/raw/train-labels-idx1-ubyte.gz\n"
          ]
        },
        {
          "output_type": "stream",
          "name": "stderr",
          "text": [
            "100%|██████████| 28.9k/28.9k [00:00<00:00, 134kB/s]\n"
          ]
        },
        {
          "output_type": "stream",
          "name": "stdout",
          "text": [
            "Extracting ./data/MNIST/raw/train-labels-idx1-ubyte.gz to ./data/MNIST/raw\n",
            "\n",
            "Downloading http://yann.lecun.com/exdb/mnist/t10k-images-idx3-ubyte.gz\n",
            "Failed to download (trying next):\n",
            "HTTP Error 403: Forbidden\n",
            "\n",
            "Downloading https://ossci-datasets.s3.amazonaws.com/mnist/t10k-images-idx3-ubyte.gz\n",
            "Downloading https://ossci-datasets.s3.amazonaws.com/mnist/t10k-images-idx3-ubyte.gz to ./data/MNIST/raw/t10k-images-idx3-ubyte.gz\n"
          ]
        },
        {
          "output_type": "stream",
          "name": "stderr",
          "text": [
            "100%|██████████| 1.65M/1.65M [00:01<00:00, 1.28MB/s]\n"
          ]
        },
        {
          "output_type": "stream",
          "name": "stdout",
          "text": [
            "Extracting ./data/MNIST/raw/t10k-images-idx3-ubyte.gz to ./data/MNIST/raw\n",
            "\n",
            "Downloading http://yann.lecun.com/exdb/mnist/t10k-labels-idx1-ubyte.gz\n",
            "Failed to download (trying next):\n",
            "HTTP Error 403: Forbidden\n",
            "\n",
            "Downloading https://ossci-datasets.s3.amazonaws.com/mnist/t10k-labels-idx1-ubyte.gz\n",
            "Downloading https://ossci-datasets.s3.amazonaws.com/mnist/t10k-labels-idx1-ubyte.gz to ./data/MNIST/raw/t10k-labels-idx1-ubyte.gz\n"
          ]
        },
        {
          "output_type": "stream",
          "name": "stderr",
          "text": [
            "100%|██████████| 4.54k/4.54k [00:00<00:00, 2.96MB/s]\n"
          ]
        },
        {
          "output_type": "stream",
          "name": "stdout",
          "text": [
            "Extracting ./data/MNIST/raw/t10k-labels-idx1-ubyte.gz to ./data/MNIST/raw\n",
            "\n",
            "Global Epoch 1/10\n",
            "Client 1 training...\n",
            "Client 2 training...\n",
            "Client 3 training...\n",
            "Client 4 training...\n",
            "Client 5 training...\n",
            "Client 6 training...\n",
            "Client 7 training...\n",
            "Client 8 training...\n",
            "Client 9 training...\n",
            "Client 10 training...\n",
            "Test Accuracy after round 1: 90.75\n",
            "Global Epoch 2/10\n",
            "Client 1 training...\n",
            "Client 2 training...\n",
            "Client 3 training...\n",
            "Client 4 training...\n",
            "Client 5 training...\n",
            "Client 6 training...\n",
            "Client 7 training...\n",
            "Client 8 training...\n",
            "Client 9 training...\n",
            "Client 10 training...\n",
            "Test Accuracy after round 2: 92.38\n",
            "Global Epoch 3/10\n",
            "Client 1 training...\n",
            "Client 2 training...\n",
            "Client 3 training...\n",
            "Client 4 training...\n",
            "Client 5 training...\n",
            "Client 6 training...\n",
            "Client 7 training...\n",
            "Client 8 training...\n",
            "Client 9 training...\n",
            "Client 10 training...\n",
            "Test Accuracy after round 3: 92.72\n",
            "Global Epoch 4/10\n",
            "Client 1 training...\n",
            "Client 2 training...\n",
            "Client 3 training...\n",
            "Client 4 training...\n",
            "Client 5 training...\n",
            "Client 6 training...\n",
            "Client 7 training...\n",
            "Client 8 training...\n",
            "Client 9 training...\n",
            "Client 10 training...\n",
            "Test Accuracy after round 4: 93.39\n",
            "Global Epoch 5/10\n",
            "Client 1 training...\n",
            "Client 2 training...\n",
            "Client 3 training...\n",
            "Client 4 training...\n",
            "Client 5 training...\n",
            "Client 6 training...\n",
            "Client 7 training...\n",
            "Client 8 training...\n",
            "Client 9 training...\n",
            "Client 10 training...\n",
            "Test Accuracy after round 5: 93.67\n",
            "Global Epoch 6/10\n",
            "Client 1 training...\n",
            "Client 2 training...\n",
            "Client 3 training...\n",
            "Client 4 training...\n",
            "Client 5 training...\n",
            "Client 6 training...\n",
            "Client 7 training...\n",
            "Client 8 training...\n",
            "Client 9 training...\n",
            "Client 10 training...\n",
            "Test Accuracy after round 6: 94.16\n",
            "Global Epoch 7/10\n",
            "Client 1 training...\n",
            "Client 2 training...\n",
            "Client 3 training...\n",
            "Client 4 training...\n",
            "Client 5 training...\n",
            "Client 6 training...\n",
            "Client 7 training...\n",
            "Client 8 training...\n",
            "Client 9 training...\n",
            "Client 10 training...\n",
            "Test Accuracy after round 7: 93.82\n",
            "Global Epoch 8/10\n",
            "Client 1 training...\n",
            "Client 2 training...\n",
            "Client 3 training...\n",
            "Client 4 training...\n",
            "Client 5 training...\n",
            "Client 6 training...\n",
            "Client 7 training...\n",
            "Client 8 training...\n",
            "Client 9 training...\n",
            "Client 10 training...\n",
            "Test Accuracy after round 8: 94.03\n",
            "Global Epoch 9/10\n",
            "Client 1 training...\n",
            "Client 2 training...\n",
            "Client 3 training...\n",
            "Client 4 training...\n",
            "Client 5 training...\n",
            "Client 6 training...\n",
            "Client 7 training...\n",
            "Client 8 training...\n",
            "Client 9 training...\n",
            "Client 10 training...\n",
            "Test Accuracy after round 9: 94.10\n",
            "Global Epoch 10/10\n",
            "Client 1 training...\n",
            "Client 2 training...\n",
            "Client 3 training...\n",
            "Client 4 training...\n",
            "Client 5 training...\n",
            "Client 6 training...\n",
            "Client 7 training...\n",
            "Client 8 training...\n",
            "Client 9 training...\n",
            "Client 10 training...\n",
            "Test Accuracy after round 10: 94.22\n"
          ]
        },
        {
          "output_type": "display_data",
          "data": {
            "text/plain": [
              "<Figure size 640x480 with 1 Axes>"
            ],
            "image/png": "[encoded data removed]"
          },
          "metadata": {}
        },
        {
          "output_type": "stream",
          "name": "stdout",
          "text": [
            "Federated learning process completed.\n"
          ]
        }
      ]
    }
  ]
}